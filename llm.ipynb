{
 "cells": [
  {
   "cell_type": "code",
   "execution_count": null,
   "metadata": {},
   "outputs": [],
   "source": [
    "from openai import OpenAI"
   ]
  },
  {
   "cell_type": "code",
   "execution_count": 12,
   "metadata": {},
   "outputs": [
    {
     "name": "stdout",
     "output_type": "stream",
     "text": [
      "ChatCompletionChunk(id='02951d0b688f545bf43932760b043572', choices=[Choice(delta=ChoiceDelta(content='我是', function_call=None, role='assistant', tool_calls=None), finish_reason=None, index=0, logprobs=None)], created=1715857932, model='abab6.5-chat', object='chat.completion.chunk', system_fingerprint=None)\n",
      "我是\n",
      "ChatCompletionChunk(id='02951d0b688f545bf43932760b043572', choices=[Choice(delta=ChoiceDelta(content='MM智能助理，', function_call=None, role='assistant', tool_calls=None), finish_reason='length', index=0, logprobs=None)], created=1715857932, model='abab6.5-chat', object='chat.completion.chunk', system_fingerprint=None)\n",
      "MM智能助理，\n",
      "ChatCompletionChunk(id='02951d0b688f545bf43932760b043572', choices=[Choice(delta=None, finish_reason='length', index=0, logprobs=None, message={'content': '我是MM智能助理，', 'role': 'assistant'})], created=1715857932, model='abab6.5-chat', object='chat.completion', system_fingerprint=None, usage={'total_tokens': 74}, base_resp={'status_code': 0, 'status_msg': ''})\n"
     ]
    }
   ],
   "source": [
    "import asyncio\n",
    "import os\n",
    "from openai import AsyncOpenAI\n",
    "\n",
    "client = AsyncOpenAI(\n",
    "    base_url  = 'http://127.0.0.1:3000/v1',\n",
    "    api_key = \"sk-ntglDqzH88R419ap44001fAd5eE84f448d49846c7f490a9f\"\n",
    "    )\n",
    "\n",
    "\n",
    "async def main():\n",
    "    stream = await client.chat.completions.create(\n",
    "        model=\"abab6.5-chat\",\n",
    "        messages=[{\"role\": \"user\", \"content\": \"你是谁啊.\"}],\n",
    "        stream=True,\n",
    "    )\n",
    "    async for chunk in stream:\n",
    "        print(chunk)\n",
    "        if len(chunk.choices) and chunk.choices[0].delta:\n",
    "            print(chunk.choices[0].delta.content or \"\", end=\"\\n\")\n",
    "\n",
    "await main()"
   ]
  },
  {
   "cell_type": "code",
   "execution_count": 10,
   "metadata": {},
   "outputs": [
    {
     "name": "stdout",
     "output_type": "stream",
     "text": [
      "ChatCompletion(id='02951c4b154688377cafc2c5fe144591', choices=[Choice(finish_reason='length', index=0, logprobs=None, message=ChatCompletionMessage(content='我是MM智能助理，', role='assistant', function_call=None, tool_calls=None))], created=1715857740, model='abab6.5-chat', object='chat.completion', system_fingerprint=None, usage=CompletionUsage(completion_tokens=None, prompt_tokens=None, total_tokens=74), base_resp={'status_code': 0, 'status_msg': ''})\n"
     ]
    }
   ],
   "source": [
    "async def main():\n",
    "    stream = await client.chat.completions.create(\n",
    "        model=\"abab6.5-chat\",\n",
    "        messages=[{\"role\": \"user\", \"content\": \"你是谁啊.\"}],\n",
    "        stream=False,\n",
    "    )\n",
    "    print(stream)\n",
    "\n",
    "await main()"
   ]
  },
  {
   "cell_type": "code",
   "execution_count": null,
   "metadata": {},
   "outputs": [],
   "source": [
    "import asyncio\n",
    "import os\n",
    "from openai import AsyncOpenAI\n",
    "\n",
    "client = AsyncOpenAI(\n",
    "    base_url  = 'https://ark.cn-beijing.volces.com/api/v3',\n",
    "    api_key = \"sk-ntglDqzH88R419ap44001fAd5eE84f448d49846c7f490a9f\"\n",
    "    )\n",
    "\n",
    "\n",
    "async def main():\n",
    "    stream = await client.chat.completions.create(\n",
    "        model=\"ep-20240517055757-kdztj\",\n",
    "        messages=[{\"role\": \"user\", \"content\": \"你是谁啊.\"}],\n",
    "        stream=True,\n",
    "    )\n",
    "    async for chunk in stream:\n",
    "        print(chunk)\n",
    "        if len(chunk.choices) and chunk.choices[0].delta:\n",
    "            print(chunk.choices[0].delta.content or \"\", end=\"\\n\")\n",
    "\n",
    "await main()"
   ]
  },
  {
   "cell_type": "code",
   "execution_count": null,
   "metadata": {},
   "outputs": [],
   "source": [
    "from __future__ import print_function\n",
    "import volcenginesdkcore\n",
    "import volcenginesdkark\n",
    "from pprint import pprint\n",
    "from volcenginesdkcore.rest import ApiException\n",
    "\n",
    "if __name__ == '__main__':\n",
    "    configuration = volcenginesdkcore.Configuration()\n",
    "    configuration.ak = \"Your AK\"\n",
    "    configuration.sk = \"Your SK\"\n",
    "    configuration.region = \"cn-beijing\"\n",
    "    # set default configuration\n",
    "    volcenginesdkcore.Configuration.set_default(configuration)\n",
    "\n",
    "    # use global default configuration\n",
    "    api_instance = volcenginesdkark.ARKApi()\n",
    "    get_api_key_request = volcenginesdkark.GetApiKeyRequest(\n",
    "        duration_seconds=30*24*3600,\n",
    "        resource_type=\"endpoint\",\n",
    "        resource_ids=[\n",
    "            \"${YOUR_ENDPOINT_ID}\"\n",
    "        ],\n",
    "    )\n",
    "    \n",
    "    try:\n",
    "        resp = api_instance.get_api_key(get_api_key_request)\n",
    "        pprint(resp)\n",
    "    except ApiException as e:\n",
    "        print(\"Exception when calling api: %s\\n\" % e)"
   ]
  }
 ],
 "metadata": {
  "kernelspec": {
   "display_name": "douyin",
   "language": "python",
   "name": "python3"
  },
  "language_info": {
   "codemirror_mode": {
    "name": "ipython",
    "version": 3
   },
   "file_extension": ".py",
   "mimetype": "text/x-python",
   "name": "python",
   "nbconvert_exporter": "python",
   "pygments_lexer": "ipython3",
   "version": "3.10.9"
  }
 },
 "nbformat": 4,
 "nbformat_minor": 2
}
